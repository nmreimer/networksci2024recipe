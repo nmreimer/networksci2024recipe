{
 "cells": [
  {
   "cell_type": "code",
   "execution_count": 1,
   "metadata": {},
   "outputs": [],
   "source": [
    "import datacleaning\n",
    "from nltk.tokenize import word_tokenize\n",
    "from nltk.corpus import stopwords\n",
    "import networkx as nx\n",
    "import itertools\n",
    "# https://realpython.com/nltk-nlp-python/\n"
   ]
  },
  {
   "cell_type": "code",
   "execution_count": 2,
   "metadata": {},
   "outputs": [],
   "source": [
    "data = datacleaning.clean_recipedata(\"recipes_raw_nosource_ar.json\")"
   ]
  },
  {
   "cell_type": "code",
   "execution_count": 3,
   "metadata": {},
   "outputs": [],
   "source": [
    "data[\"ingredient_words\"] = data.clean_ingredients.apply(word_tokenize)\n",
    "data[\"instruction_words\"] = data.clean_instructions_masked.apply(word_tokenize)"
   ]
  },
  {
   "cell_type": "code",
   "execution_count": 4,
   "metadata": {},
   "outputs": [],
   "source": [
    "stop_words = set(stopwords.words(\"english\"))\n",
    "\n",
    "def filter_stop_words(words):\n",
    "    output = list()\n",
    "    for word in words:\n",
    "        if word.casefold() not in stop_words:\n",
    "            output.append(word)\n",
    "    return(output)\n",
    "\n",
    "data[\"instruction_words\"] = data[\"instruction_words\"].apply(filter_stop_words)\n",
    "data[\"ingredient_words\"] = data[\"ingredient_words\"].apply(filter_stop_words)\n"
   ]
  },
  {
   "cell_type": "code",
   "execution_count": 5,
   "metadata": {},
   "outputs": [],
   "source": [
    "data['index'] = data.index"
   ]
  },
  {
   "cell_type": "code",
   "execution_count": 6,
   "metadata": {},
   "outputs": [],
   "source": [
    "G = nx.Graph()\n",
    "G.add_nodes_from(data['index'])"
   ]
  },
  {
   "cell_type": "code",
   "execution_count": 7,
   "metadata": {},
   "outputs": [],
   "source": [
    "# nodepairs = []"
   ]
  },
  {
   "cell_type": "code",
   "execution_count": 8,
   "metadata": {},
   "outputs": [],
   "source": [
    "# nodepairs = []\n",
    "# for nodepair in itertools.combinations(G.nodes, r = 2):\n",
    "#         A, B = nodepair\n",
    "#         listA = data[data['index'] == A]['ingredient_words']\n",
    "#         listB = data[data['index'] == B]['ingredient_words']\n",
    "#         listA = (list(listA))[0]\n",
    "#         listB = (list(listB))[0]\n",
    "#         count = len(listA) + len(listB)\n",
    "#         shared = len(set(listA) & set(listB))\n",
    "#         shared_word_weight = shared/count\n",
    "#         G.add_edge(A, B, weight = shared_word_weight)\n"
   ]
  },
  {
   "cell_type": "code",
   "execution_count": 9,
   "metadata": {},
   "outputs": [],
   "source": [
    "nodepairs = []\n",
    "for nodepair in itertools.combinations(G.nodes, r = 2):\n",
    "        nodepairs.append(nodepair)\n"
   ]
  },
  {
   "cell_type": "code",
   "execution_count": null,
   "metadata": {},
   "outputs": [
    {
     "data": {
      "text/plain": [
       "5.451338531198515"
      ]
     },
     "execution_count": 14,
     "metadata": {},
     "output_type": "execute_result"
    }
   ],
   "source": [
    "# 1/(len(nodepairs)/len(G.nodes)**2/13)/60"
   ]
  },
  {
   "cell_type": "code",
   "execution_count": null,
   "metadata": {},
   "outputs": [
    {
     "data": {
      "text/plain": [
       "37028"
      ]
     },
     "execution_count": 78,
     "metadata": {},
     "output_type": "execute_result"
    }
   ],
   "source": [
    "        # listA = data[data['index'] == A]['ingredient_words']\n",
    "        # listB = data[data['index'] == B]['ingredient_words']\n",
    "        # listA = (list(listA))[0]\n",
    "        # listB = (list(listB))[0]\n",
    "        # count = len(listA) + len(listB)\n",
    "        # shared = len(set(listA) & set(listB))\n",
    "        # shared_word_weight = shared/count\n",
    "        # G.add_edge(A, B, weight = shared_word_weight)"
   ]
  }
 ],
 "metadata": {
  "kernelspec": {
   "display_name": ".venv",
   "language": "python",
   "name": "python3"
  },
  "language_info": {
   "codemirror_mode": {
    "name": "ipython",
    "version": 3
   },
   "file_extension": ".py",
   "mimetype": "text/x-python",
   "name": "python",
   "nbconvert_exporter": "python",
   "pygments_lexer": "ipython3",
   "version": "3.11.0"
  }
 },
 "nbformat": 4,
 "nbformat_minor": 2
}
