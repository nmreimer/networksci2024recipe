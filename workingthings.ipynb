{
 "cells": [
  {
   "cell_type": "code",
   "execution_count": 1,
   "metadata": {},
   "outputs": [],
   "source": [
    "import datacleaning\n",
    "import pandas as pd\n",
    "from nltk.tokenize import word_tokenize\n",
    "from nltk.corpus import stopwords\n",
    "from nltk.probability import FreqDist\n",
    "from sklearn.feature_extraction.text import CountVectorizer\n",
    "from sklearn.metrics.pairwise import cosine_similarity\n",
    "from sklearn.feature_extraction.text import TfidfVectorizer\n",
    "from scipy.spatial import distance\n",
    "import networkx as nx\n",
    "import itertools\n",
    "import matplotlib\n",
    "import numpy as np\n",
    "import scipy\n",
    "# https://realpython.com/nltk-nlp-python/\n"
   ]
  },
  {
   "cell_type": "code",
   "execution_count": 2,
   "metadata": {},
   "outputs": [
    {
     "name": "stdout",
     "output_type": "stream",
     "text": [
      "(5000, 7)\n"
     ]
    },
    {
     "data": {
      "text/html": [
       "<div>\n",
       "<style scoped>\n",
       "    .dataframe tbody tr th:only-of-type {\n",
       "        vertical-align: middle;\n",
       "    }\n",
       "\n",
       "    .dataframe tbody tr th {\n",
       "        vertical-align: top;\n",
       "    }\n",
       "\n",
       "    .dataframe thead th {\n",
       "        text-align: right;\n",
       "    }\n",
       "</style>\n",
       "<table border=\"1\" class=\"dataframe\">\n",
       "  <thead>\n",
       "    <tr style=\"text-align: right;\">\n",
       "      <th></th>\n",
       "      <th>title</th>\n",
       "      <th>ingredients</th>\n",
       "      <th>instructions</th>\n",
       "      <th>picture_link</th>\n",
       "      <th>clean_ingredients</th>\n",
       "      <th>clean_instructions</th>\n",
       "      <th>clean_instructions_masked</th>\n",
       "    </tr>\n",
       "  </thead>\n",
       "  <tbody>\n",
       "    <tr>\n",
       "      <th>5eA5nRW8VgbOry0hsA.SVnrGkt2AdzO</th>\n",
       "      <td>Southern-Style Chocolate Pound Cake</td>\n",
       "      <td>1 cup butter ADVERTISEMENT 1/2 cup shortening ...</td>\n",
       "      <td>Preheat oven to 350 degrees F (175 degrees C)....</td>\n",
       "      <td>v.IiJhm4GZSZAGtMDWpTfAe6vspLCiu</td>\n",
       "      <td>butter shortening white sugar eggs vanilla ext...</td>\n",
       "      <td>preheat oven degrees degrees grease flour loaf...</td>\n",
       "      <td>preheat oven degrees degrees grease loaf pans ...</td>\n",
       "    </tr>\n",
       "    <tr>\n",
       "      <th>DIzfv.NycIqtwo58y7fteog1dKRw12O</th>\n",
       "      <td>Pumpkin Pie I</td>\n",
       "      <td>1 egg ADVERTISEMENT 1 tablespoon all-purpose f...</td>\n",
       "      <td>Preheat oven to 450 degrees F (230 degrees C)....</td>\n",
       "      <td>EbVR3lftwDSDeE1MRSGdi1evygKF/D6</td>\n",
       "      <td>egg allpurpose flour white sugar salt pumpkin ...</td>\n",
       "      <td>preheat oven degrees degrees add sugar gradual...</td>\n",
       "      <td>preheat oven degrees degrees add gradually bea...</td>\n",
       "    </tr>\n",
       "    <tr>\n",
       "      <th>TFxp0RPK/1PxAnjYiZUS0KztkgYb3iW</th>\n",
       "      <td>Cinnamon Oatmeal Zucchini Cookies</td>\n",
       "      <td>1 1/2 cups butter, softened ADVERTISEMENT 1 1/...</td>\n",
       "      <td>Preheat oven to 350 degrees F (175 degrees C)....</td>\n",
       "      <td>jG7CnWbsc8cYsoHbreIorq8Uvyzzk/6</td>\n",
       "      <td>butter softened white sugar eggs vanilla extra...</td>\n",
       "      <td>preheat oven degrees degrees grease baking she...</td>\n",
       "      <td>preheat oven degrees degrees grease sheets bea...</td>\n",
       "    </tr>\n",
       "    <tr>\n",
       "      <th>3yH5Jc6HLmEnJw5ggLqI11oeBiSpwBy</th>\n",
       "      <td>Plum-Oat Drop Biscuits</td>\n",
       "      <td>2 tablespoons white sugar ADVERTISEMENT 1/2 te...</td>\n",
       "      <td>Preheat oven to 450 degrees F (230 degrees C)....</td>\n",
       "      <td>qE58a7Z1Au0GXvPO188iHZZVqna9hLa</td>\n",
       "      <td>white sugar ground cinnamon allpurpose flour r...</td>\n",
       "      <td>preheat oven degrees degrees grease baking she...</td>\n",
       "      <td>preheat oven degrees degrees grease sheet comb...</td>\n",
       "    </tr>\n",
       "    <tr>\n",
       "      <th>8lZak.EVdLP9/dukyN72DYHyjseFwV2</th>\n",
       "      <td>Ghirardelli Milk Chocolate Chip Cookies</td>\n",
       "      <td>2 1/4 cups all-purpose flour ADVERTISEMENT 1 t...</td>\n",
       "      <td>Preheat the oven to 375 degrees F. Stir togeth...</td>\n",
       "      <td>50UyVqBQayirbQ47M.8oJvkETheUGFW</td>\n",
       "      <td>allpurpose flour baking soda salt unsalted but...</td>\n",
       "      <td>preheat oven degrees stir together flour bakin...</td>\n",
       "      <td>preheat oven degrees stir together set aside b...</td>\n",
       "    </tr>\n",
       "    <tr>\n",
       "      <th>...</th>\n",
       "      <td>...</td>\n",
       "      <td>...</td>\n",
       "      <td>...</td>\n",
       "      <td>...</td>\n",
       "      <td>...</td>\n",
       "      <td>...</td>\n",
       "      <td>...</td>\n",
       "    </tr>\n",
       "    <tr>\n",
       "      <th>z5ZKH66nGOR2cgkzDl5vGj4DPX/J95O</th>\n",
       "      <td>Sun-Dried Tomato With Fresh Basil Spread</td>\n",
       "      <td>1/2 cup oil-packed sun-dried tomatoes ADVERTIS...</td>\n",
       "      <td>Place sun-dried tomatoes in the work bowl of a...</td>\n",
       "      <td>IV7I3CRDxEMTrdHzOCE3YHxewYs0JQW</td>\n",
       "      <td>oilpacked sundried tomatoes basil leaves ounce...</td>\n",
       "      <td>place sundried tomatoes work bowl food process...</td>\n",
       "      <td>place work bowl food processor pulse coarsely ...</td>\n",
       "    </tr>\n",
       "    <tr>\n",
       "      <th>g1mQzPtIoBSaOaaHSkMj7cObWt0r5.K</th>\n",
       "      <td>Banana Split Martini</td>\n",
       "      <td>ice as needed ADVERTISEMENT 2 fluid ounces whi...</td>\n",
       "      <td>Fill a cocktail shaker with ice; add white cho...</td>\n",
       "      <td>qE58a7Z1Au0GXvPO188iHZZVqna9hLa</td>\n",
       "      <td>ice needed fluid ounces white chocolate liqueu...</td>\n",
       "      <td>fill cocktail shaker ice add white chocolate l...</td>\n",
       "      <td>fill cocktail shaker add creme de cover shake ...</td>\n",
       "    </tr>\n",
       "    <tr>\n",
       "      <th>dsDOddsQtDp7xomWY2mQwcoTyLeUfYa</th>\n",
       "      <td>Citrus Glazed Banana Squash</td>\n",
       "      <td>1 1/2 pounds banana squash, peeled and cubed A...</td>\n",
       "      <td>Melt butter in a large skillet over medium hea...</td>\n",
       "      <td>SkAAXlzdZZcQ6UmAO72KI82FiqpAG9y</td>\n",
       "      <td>banana squash peeled cubed butter water needed...</td>\n",
       "      <td>melt butter large skillet medium heat add squa...</td>\n",
       "      <td>melt large skillet medium heat add cubes cover...</td>\n",
       "    </tr>\n",
       "    <tr>\n",
       "      <th>CdxL1ghjiOgZTF8mPLi/JdaUW74ARmq</th>\n",
       "      <td>Classic Spanish Sangria</td>\n",
       "      <td>1 lemon ADVERTISEMENT 1 lime ADVERTISEMENT 1 o...</td>\n",
       "      <td>Have the fruit, rum, wine, and orange juice we...</td>\n",
       "      <td>xCSyOeooKYofbXHuZpV5h7prJrWUDhK</td>\n",
       "      <td>lemon lime orange rum white sugar bottle dry r...</td>\n",
       "      <td>fruit rum wine orange juice well chilled slice...</td>\n",
       "      <td>fruit well chilled slice thin rounds place lar...</td>\n",
       "    </tr>\n",
       "    <tr>\n",
       "      <th>zDZUSIRODtz86LgwPyFH3AoMoPO8p.2</th>\n",
       "      <td>Easy Weeknight Beef Stroganoff</td>\n",
       "      <td>1 pound cooked seasoned frozen beef strips, th...</td>\n",
       "      <td>Brown beef strips in 1 tablespoon oil in nonst...</td>\n",
       "      <td>XkCNVqQ2tDuiXm6iX/ECjwIGMSVHIe6</td>\n",
       "      <td>cooked seasoned frozen beef strips thawed pouc...</td>\n",
       "      <td>brown beef strips oil nonstick skillet cook mi...</td>\n",
       "      <td>brown oil nonstick skillet cook minutes stir s...</td>\n",
       "    </tr>\n",
       "  </tbody>\n",
       "</table>\n",
       "<p>5000 rows × 7 columns</p>\n",
       "</div>"
      ],
      "text/plain": [
       "                                                                    title  \\\n",
       "5eA5nRW8VgbOry0hsA.SVnrGkt2AdzO       Southern-Style Chocolate Pound Cake   \n",
       "DIzfv.NycIqtwo58y7fteog1dKRw12O                             Pumpkin Pie I   \n",
       "TFxp0RPK/1PxAnjYiZUS0KztkgYb3iW         Cinnamon Oatmeal Zucchini Cookies   \n",
       "3yH5Jc6HLmEnJw5ggLqI11oeBiSpwBy                    Plum-Oat Drop Biscuits   \n",
       "8lZak.EVdLP9/dukyN72DYHyjseFwV2   Ghirardelli Milk Chocolate Chip Cookies   \n",
       "...                                                                   ...   \n",
       "z5ZKH66nGOR2cgkzDl5vGj4DPX/J95O  Sun-Dried Tomato With Fresh Basil Spread   \n",
       "g1mQzPtIoBSaOaaHSkMj7cObWt0r5.K                      Banana Split Martini   \n",
       "dsDOddsQtDp7xomWY2mQwcoTyLeUfYa               Citrus Glazed Banana Squash   \n",
       "CdxL1ghjiOgZTF8mPLi/JdaUW74ARmq                   Classic Spanish Sangria   \n",
       "zDZUSIRODtz86LgwPyFH3AoMoPO8p.2            Easy Weeknight Beef Stroganoff   \n",
       "\n",
       "                                                                       ingredients  \\\n",
       "5eA5nRW8VgbOry0hsA.SVnrGkt2AdzO  1 cup butter ADVERTISEMENT 1/2 cup shortening ...   \n",
       "DIzfv.NycIqtwo58y7fteog1dKRw12O  1 egg ADVERTISEMENT 1 tablespoon all-purpose f...   \n",
       "TFxp0RPK/1PxAnjYiZUS0KztkgYb3iW  1 1/2 cups butter, softened ADVERTISEMENT 1 1/...   \n",
       "3yH5Jc6HLmEnJw5ggLqI11oeBiSpwBy  2 tablespoons white sugar ADVERTISEMENT 1/2 te...   \n",
       "8lZak.EVdLP9/dukyN72DYHyjseFwV2  2 1/4 cups all-purpose flour ADVERTISEMENT 1 t...   \n",
       "...                                                                            ...   \n",
       "z5ZKH66nGOR2cgkzDl5vGj4DPX/J95O  1/2 cup oil-packed sun-dried tomatoes ADVERTIS...   \n",
       "g1mQzPtIoBSaOaaHSkMj7cObWt0r5.K  ice as needed ADVERTISEMENT 2 fluid ounces whi...   \n",
       "dsDOddsQtDp7xomWY2mQwcoTyLeUfYa  1 1/2 pounds banana squash, peeled and cubed A...   \n",
       "CdxL1ghjiOgZTF8mPLi/JdaUW74ARmq  1 lemon ADVERTISEMENT 1 lime ADVERTISEMENT 1 o...   \n",
       "zDZUSIRODtz86LgwPyFH3AoMoPO8p.2  1 pound cooked seasoned frozen beef strips, th...   \n",
       "\n",
       "                                                                      instructions  \\\n",
       "5eA5nRW8VgbOry0hsA.SVnrGkt2AdzO  Preheat oven to 350 degrees F (175 degrees C)....   \n",
       "DIzfv.NycIqtwo58y7fteog1dKRw12O  Preheat oven to 450 degrees F (230 degrees C)....   \n",
       "TFxp0RPK/1PxAnjYiZUS0KztkgYb3iW  Preheat oven to 350 degrees F (175 degrees C)....   \n",
       "3yH5Jc6HLmEnJw5ggLqI11oeBiSpwBy  Preheat oven to 450 degrees F (230 degrees C)....   \n",
       "8lZak.EVdLP9/dukyN72DYHyjseFwV2  Preheat the oven to 375 degrees F. Stir togeth...   \n",
       "...                                                                            ...   \n",
       "z5ZKH66nGOR2cgkzDl5vGj4DPX/J95O  Place sun-dried tomatoes in the work bowl of a...   \n",
       "g1mQzPtIoBSaOaaHSkMj7cObWt0r5.K  Fill a cocktail shaker with ice; add white cho...   \n",
       "dsDOddsQtDp7xomWY2mQwcoTyLeUfYa  Melt butter in a large skillet over medium hea...   \n",
       "CdxL1ghjiOgZTF8mPLi/JdaUW74ARmq  Have the fruit, rum, wine, and orange juice we...   \n",
       "zDZUSIRODtz86LgwPyFH3AoMoPO8p.2  Brown beef strips in 1 tablespoon oil in nonst...   \n",
       "\n",
       "                                                    picture_link  \\\n",
       "5eA5nRW8VgbOry0hsA.SVnrGkt2AdzO  v.IiJhm4GZSZAGtMDWpTfAe6vspLCiu   \n",
       "DIzfv.NycIqtwo58y7fteog1dKRw12O  EbVR3lftwDSDeE1MRSGdi1evygKF/D6   \n",
       "TFxp0RPK/1PxAnjYiZUS0KztkgYb3iW  jG7CnWbsc8cYsoHbreIorq8Uvyzzk/6   \n",
       "3yH5Jc6HLmEnJw5ggLqI11oeBiSpwBy  qE58a7Z1Au0GXvPO188iHZZVqna9hLa   \n",
       "8lZak.EVdLP9/dukyN72DYHyjseFwV2  50UyVqBQayirbQ47M.8oJvkETheUGFW   \n",
       "...                                                          ...   \n",
       "z5ZKH66nGOR2cgkzDl5vGj4DPX/J95O  IV7I3CRDxEMTrdHzOCE3YHxewYs0JQW   \n",
       "g1mQzPtIoBSaOaaHSkMj7cObWt0r5.K  qE58a7Z1Au0GXvPO188iHZZVqna9hLa   \n",
       "dsDOddsQtDp7xomWY2mQwcoTyLeUfYa  SkAAXlzdZZcQ6UmAO72KI82FiqpAG9y   \n",
       "CdxL1ghjiOgZTF8mPLi/JdaUW74ARmq  xCSyOeooKYofbXHuZpV5h7prJrWUDhK   \n",
       "zDZUSIRODtz86LgwPyFH3AoMoPO8p.2  XkCNVqQ2tDuiXm6iX/ECjwIGMSVHIe6   \n",
       "\n",
       "                                                                 clean_ingredients  \\\n",
       "5eA5nRW8VgbOry0hsA.SVnrGkt2AdzO  butter shortening white sugar eggs vanilla ext...   \n",
       "DIzfv.NycIqtwo58y7fteog1dKRw12O  egg allpurpose flour white sugar salt pumpkin ...   \n",
       "TFxp0RPK/1PxAnjYiZUS0KztkgYb3iW  butter softened white sugar eggs vanilla extra...   \n",
       "3yH5Jc6HLmEnJw5ggLqI11oeBiSpwBy  white sugar ground cinnamon allpurpose flour r...   \n",
       "8lZak.EVdLP9/dukyN72DYHyjseFwV2  allpurpose flour baking soda salt unsalted but...   \n",
       "...                                                                            ...   \n",
       "z5ZKH66nGOR2cgkzDl5vGj4DPX/J95O  oilpacked sundried tomatoes basil leaves ounce...   \n",
       "g1mQzPtIoBSaOaaHSkMj7cObWt0r5.K  ice needed fluid ounces white chocolate liqueu...   \n",
       "dsDOddsQtDp7xomWY2mQwcoTyLeUfYa  banana squash peeled cubed butter water needed...   \n",
       "CdxL1ghjiOgZTF8mPLi/JdaUW74ARmq  lemon lime orange rum white sugar bottle dry r...   \n",
       "zDZUSIRODtz86LgwPyFH3AoMoPO8p.2  cooked seasoned frozen beef strips thawed pouc...   \n",
       "\n",
       "                                                                clean_instructions  \\\n",
       "5eA5nRW8VgbOry0hsA.SVnrGkt2AdzO  preheat oven degrees degrees grease flour loaf...   \n",
       "DIzfv.NycIqtwo58y7fteog1dKRw12O  preheat oven degrees degrees add sugar gradual...   \n",
       "TFxp0RPK/1PxAnjYiZUS0KztkgYb3iW  preheat oven degrees degrees grease baking she...   \n",
       "3yH5Jc6HLmEnJw5ggLqI11oeBiSpwBy  preheat oven degrees degrees grease baking she...   \n",
       "8lZak.EVdLP9/dukyN72DYHyjseFwV2  preheat oven degrees stir together flour bakin...   \n",
       "...                                                                            ...   \n",
       "z5ZKH66nGOR2cgkzDl5vGj4DPX/J95O  place sundried tomatoes work bowl food process...   \n",
       "g1mQzPtIoBSaOaaHSkMj7cObWt0r5.K  fill cocktail shaker ice add white chocolate l...   \n",
       "dsDOddsQtDp7xomWY2mQwcoTyLeUfYa  melt butter large skillet medium heat add squa...   \n",
       "CdxL1ghjiOgZTF8mPLi/JdaUW74ARmq  fruit rum wine orange juice well chilled slice...   \n",
       "zDZUSIRODtz86LgwPyFH3AoMoPO8p.2  brown beef strips oil nonstick skillet cook mi...   \n",
       "\n",
       "                                                         clean_instructions_masked  \n",
       "5eA5nRW8VgbOry0hsA.SVnrGkt2AdzO  preheat oven degrees degrees grease loaf pans ...  \n",
       "DIzfv.NycIqtwo58y7fteog1dKRw12O  preheat oven degrees degrees add gradually bea...  \n",
       "TFxp0RPK/1PxAnjYiZUS0KztkgYb3iW  preheat oven degrees degrees grease sheets bea...  \n",
       "3yH5Jc6HLmEnJw5ggLqI11oeBiSpwBy  preheat oven degrees degrees grease sheet comb...  \n",
       "8lZak.EVdLP9/dukyN72DYHyjseFwV2  preheat oven degrees stir together set aside b...  \n",
       "...                                                                            ...  \n",
       "z5ZKH66nGOR2cgkzDl5vGj4DPX/J95O  place work bowl food processor pulse coarsely ...  \n",
       "g1mQzPtIoBSaOaaHSkMj7cObWt0r5.K  fill cocktail shaker add creme de cover shake ...  \n",
       "dsDOddsQtDp7xomWY2mQwcoTyLeUfYa  melt large skillet medium heat add cubes cover...  \n",
       "CdxL1ghjiOgZTF8mPLi/JdaUW74ARmq  fruit well chilled slice thin rounds place lar...  \n",
       "zDZUSIRODtz86LgwPyFH3AoMoPO8p.2  brown oil nonstick skillet cook minutes stir s...  \n",
       "\n",
       "[5000 rows x 7 columns]"
      ]
     },
     "execution_count": 2,
     "metadata": {},
     "output_type": "execute_result"
    }
   ],
   "source": [
    "data = datacleaning.clean_recipedata(\"recipes_raw_nosource_ar.json\", n=5000)\n",
    "print(np.shape(data))\n",
    "\n",
    "data\n",
    "# data.to_csv(\"data_small.csv\")\n",
    "\n"
   ]
  },
  {
   "cell_type": "code",
   "execution_count": 3,
   "metadata": {},
   "outputs": [],
   "source": [
    "data.to_csv(\"data_small.csv\")"
   ]
  },
  {
   "cell_type": "code",
   "execution_count": 4,
   "metadata": {},
   "outputs": [],
   "source": [
    "data[\"ingredient_words\"] = data.clean_ingredients.apply(word_tokenize)\n",
    "data[\"instruction_words\"] = data.clean_instructions_masked.apply(word_tokenize)"
   ]
  },
  {
   "cell_type": "code",
   "execution_count": null,
   "metadata": {},
   "outputs": [],
   "source": [
    "# ingredient_units = {'inch', 'ml', 'milliliter','milliliters','liters','teaspoons', 'l','liter','teaspoon','t','tsp','tablespoon','tablespoons','tbl','tbs','tbsp','ounce','oz','fl','cup','cups','c','pint','pints','pt','p','quart','quarts','qt','gal','gals','gallon','gallons','g','mg','milligram','milligrams','gram','grams','pound','pounds','lb','lbs','c','f'}"
   ]
  },
  {
   "cell_type": "code",
   "execution_count": 5,
   "metadata": {},
   "outputs": [],
   "source": [
    "# stop_words = set(stopwords.words(\"english\"))\n",
    "# stop_words = stop_words.union(ingredient_units)\n",
    "\n",
    "# def filter_stop_words(words):\n",
    "#     output = list()\n",
    "#     for word in words:\n",
    "#         if word.casefold() not in stop_words:\n",
    "#             output.append(word)\n",
    "#     return(output)\n",
    "\n",
    "# data[\"instruction_words\"] = data[\"instruction_words\"].apply(filter_stop_words)\n",
    "# data[\"ingredient_words\"] = data[\"ingredient_words\"].apply(filter_stop_words)\n",
    "data['index'] = data.index\n",
    "data.to_csv(\"data_small.csv\")\n"
   ]
  },
  {
   "cell_type": "code",
   "execution_count": 6,
   "metadata": {},
   "outputs": [
    {
     "data": {
      "text/plain": [
       "5eA5nRW8VgbOry0hsA.SVnrGkt2AdzO    [butter, shortening, white, sugar, eggs, vanil...\n",
       "DIzfv.NycIqtwo58y7fteog1dKRw12O    [egg, allpurpose, flour, white, sugar, salt, p...\n",
       "TFxp0RPK/1PxAnjYiZUS0KztkgYb3iW    [butter, softened, white, sugar, eggs, vanilla...\n",
       "3yH5Jc6HLmEnJw5ggLqI11oeBiSpwBy    [white, sugar, ground, cinnamon, allpurpose, f...\n",
       "8lZak.EVdLP9/dukyN72DYHyjseFwV2    [allpurpose, flour, baking, soda, salt, unsalt...\n",
       "                                                         ...                        \n",
       "z5ZKH66nGOR2cgkzDl5vGj4DPX/J95O    [oilpacked, sundried, tomatoes, basil, leaves,...\n",
       "g1mQzPtIoBSaOaaHSkMj7cObWt0r5.K    [ice, needed, fluid, ounces, white, chocolate,...\n",
       "dsDOddsQtDp7xomWY2mQwcoTyLeUfYa    [banana, squash, peeled, cubed, butter, water,...\n",
       "CdxL1ghjiOgZTF8mPLi/JdaUW74ARmq    [lemon, lime, orange, rum, white, sugar, bottl...\n",
       "zDZUSIRODtz86LgwPyFH3AoMoPO8p.2    [cooked, seasoned, frozen, beef, strips, thawe...\n",
       "Name: ingredient_words, Length: 5000, dtype: object"
      ]
     },
     "execution_count": 6,
     "metadata": {},
     "output_type": "execute_result"
    }
   ],
   "source": [
    "data[\"ingredient_words\"]"
   ]
  },
  {
   "cell_type": "code",
   "execution_count": 7,
   "metadata": {},
   "outputs": [],
   "source": [
    "all_instruction_words = list(itertools.chain.from_iterable(data[\"instruction_words\"]))\n",
    "all_ingredient_words = list(itertools.chain.from_iterable(data[\"ingredient_words\"]))"
   ]
  },
  {
   "cell_type": "code",
   "execution_count": 8,
   "metadata": {},
   "outputs": [
    {
     "data": {
      "text/plain": [
       "2710"
      ]
     },
     "execution_count": 8,
     "metadata": {},
     "output_type": "execute_result"
    }
   ],
   "source": [
    "len(FreqDist(all_ingredient_words).items())"
   ]
  },
  {
   "cell_type": "code",
   "execution_count": 9,
   "metadata": {},
   "outputs": [],
   "source": [
    "# Instructions\n",
    "common_instruction_words = []\n",
    "\n",
    "for item in FreqDist(all_instruction_words).items():\n",
    "    if (item[1]) > (len(data)*.01): # remove words that appear less than once per hundred recipes\n",
    "        common_instruction_words.append(item)\n",
    "\n",
    "\n",
    "common_instruction_words = sorted(common_instruction_words, key=lambda x: x[1], reverse=True)\n",
    "\n",
    "common_instruction_words_dict = {}\n",
    "for i in range(len(common_instruction_words)):\n",
    "    common_instruction_words_dict[common_instruction_words[i][0]] = i\n",
    "\n",
    "\n",
    "\n",
    "# Ingredients\n",
    "common_ingredient_words = []\n",
    "for item in FreqDist(all_ingredient_words).items():\n",
    "    if (item[1]) > (len(data)*.01): # remove words that appear less than once per hundred recipes\n",
    "        common_ingredient_words.append(item)\n",
    "\n",
    "common_ingredient_words = sorted(common_ingredient_words, key=lambda x: x[1], reverse=True)\n",
    "\n",
    "common_ingredient_words_dict = {}\n",
    "for i in range(len(common_ingredient_words)):\n",
    "    common_ingredient_words_dict[common_ingredient_words[i][0]] = i"
   ]
  },
  {
   "cell_type": "code",
   "execution_count": 41,
   "metadata": {},
   "outputs": [
    {
     "data": {
      "text/plain": [
       "50.0"
      ]
     },
     "execution_count": 41,
     "metadata": {},
     "output_type": "execute_result"
    }
   ],
   "source": [
    "len(data)*.01"
   ]
  },
  {
   "cell_type": "code",
   "execution_count": 94,
   "metadata": {},
   "outputs": [
    {
     "data": {
      "image/png": "[encoded data removed]",
      "text/plain": [
       "<Figure size 600x300 with 2 Axes>"
      ]
     },
     "metadata": {},
     "output_type": "display_data"
    }
   ],
   "source": [
    "import matplotlib.pyplot as plt\n",
    "import seaborn as sns\n",
    "ingred = ((pd.DataFrame({a:[b] for a, b in common_ingredient_words})).T.reset_index())\n",
    "ingred = ingred[ingred[0] > 1500]\n",
    "\n",
    "inst = ((pd.DataFrame({a:[b] for a, b in common_instruction_words})).T.reset_index())\n",
    "inst = inst[inst[0] > 2500]\n",
    "\n",
    "fig, axes = plt.subplots(nrows=1, ncols=2, figsize=(6, 3))\n",
    "\n",
    "a = sns.barplot(y=ingred[0], x=ingred['index'], ax = axes[0])\n",
    "axes[0].tick_params(axis='x', rotation=90)\n",
    "a.set_xlabel(\"\")\n",
    "a.set_ylabel(\"Count\")\n",
    "a.set_title(\"Ingredients\")\n",
    "\n",
    "b = sns.barplot(y=inst[0], x=inst['index'], ax = axes[1])\n",
    "axes[1].tick_params(axis='x', rotation=90)\n",
    "b.set_xlabel(\"\")\n",
    "b.set_ylabel(\"\")\n",
    "b.set_title(\"Instructions\")\n",
    "\n",
    "fig.suptitle(\"Word Frequencies\")\n",
    "fig.tight_layout()\n",
    "\n",
    "plt.savefig('figs/original_wordcounts.pdf')"
   ]
  },
  {
   "cell_type": "code",
   "execution_count": 11,
   "metadata": {},
   "outputs": [
    {
     "data": {
      "text/plain": [
       "{'minutes': 0,\n",
       " 'heat': 1,\n",
       " 'stir': 2,\n",
       " 'degrees': 3,\n",
       " 'bowl': 4,\n",
       " 'oven': 5,\n",
       " 'mixture': 6,\n",
       " 'cook': 7,\n",
       " 'add': 8,\n",
       " 'place': 9,\n",
       " 'large': 10,\n",
       " 'together': 11,\n",
       " 'pour': 12,\n",
       " 'mix': 13,\n",
       " 'bake': 14,\n",
       " 'medium': 15,\n",
       " 'preheat': 16,\n",
       " 'skillet': 17,\n",
       " 'cover': 18,\n",
       " 'pan': 19,\n",
       " 'remove': 20,\n",
       " 'top': 21,\n",
       " 'cool': 22,\n",
       " 'boil': 23,\n",
       " 'preheated': 24,\n",
       " 'combine': 25,\n",
       " 'baking': 26,\n",
       " 'bring': 27,\n",
       " 'set': 28,\n",
       " 'dish': 29,\n",
       " 'simmer': 30,\n",
       " 'beat': 31,\n",
       " 'well': 32,\n",
       " 'lightly': 33,\n",
       " 'saucepan': 34,\n",
       " 'pot': 35,\n",
       " 'remaining': 36,\n",
       " 'serve': 37,\n",
       " 'smooth': 38,\n",
       " 'water': 39,\n",
       " 'dough': 40,\n",
       " 'drain': 41,\n",
       " 'sprinkle': 42,\n",
       " 'tender': 43,\n",
       " 'stirring': 44,\n",
       " 'small': 45,\n",
       " 'sheet': 46,\n",
       " 'reduce': 47,\n",
       " 'brown': 48,\n",
       " 'let': 49,\n",
       " 'hours': 50,\n",
       " 'browned': 51,\n",
       " 'season': 52,\n",
       " 'spread': 53,\n",
       " 'center': 54,\n",
       " 'aside': 55,\n",
       " 'onto': 56,\n",
       " 'prepared': 57,\n",
       " 'low': 58,\n",
       " 'serving': 59,\n",
       " 'grease': 60,\n",
       " 'hot': 61,\n",
       " 'evenly': 62,\n",
       " 'whisk': 63,\n",
       " 'golden': 64,\n",
       " 'batter': 65,\n",
       " 'side': 66,\n",
       " 'cut': 67,\n",
       " 'mediumhigh': 68,\n",
       " 'refrigerate': 69,\n",
       " 'spoon': 70,\n",
       " 'transfer': 71,\n",
       " 'hour': 72,\n",
       " 'half': 73,\n",
       " 'paper': 74,\n",
       " 'roll': 75,\n",
       " 'one': 76,\n",
       " 'high': 77,\n",
       " 'bottom': 78,\n",
       " 'blend': 79,\n",
       " 'coat': 80,\n",
       " 'make': 81,\n",
       " 'melt': 82,\n",
       " 'grill': 83,\n",
       " 'continue': 84,\n",
       " 'completely': 85,\n",
       " 'toss': 86,\n",
       " 'allow': 87,\n",
       " 'cookie': 88,\n",
       " 'cooked': 89,\n",
       " 'x': 90,\n",
       " 'layer': 91,\n",
       " 'using': 92,\n",
       " 'sides': 93,\n",
       " 'sauce': 94,\n",
       " 'least': 95,\n",
       " 'cooking': 96,\n",
       " 'fold': 97,\n",
       " 'occasionally': 98,\n",
       " 'turn': 99,\n",
       " 'meat': 100,\n",
       " 'rack': 101,\n",
       " 'melted': 102,\n",
       " 'inserted': 103,\n",
       " 'foil': 104,\n",
       " 'warm': 105,\n",
       " 'minute': 106,\n",
       " 'blender': 107,\n",
       " 'slightly': 108,\n",
       " 'time': 109,\n",
       " 'mixing': 110,\n",
       " 'blended': 111,\n",
       " 'clean': 112,\n",
       " 'desired': 113,\n",
       " 'sheets': 114,\n",
       " 'pieces': 115,\n",
       " 'filling': 116,\n",
       " 'form': 117,\n",
       " 'soft': 118,\n",
       " 'arrange': 119,\n",
       " 'plate': 120,\n",
       " 'gently': 121,\n",
       " 'return': 122,\n",
       " 'longer': 123,\n",
       " 'press': 124,\n",
       " 'wire': 125,\n",
       " 'comes': 126,\n",
       " 'mediumlow': 127,\n",
       " 'chill': 128,\n",
       " 'plastic': 129,\n",
       " 'wrap': 130,\n",
       " 'slice': 131,\n",
       " 'pink': 132,\n",
       " 'liquid': 133,\n",
       " 'refrigerator': 134,\n",
       " 'slices': 135,\n",
       " 'egg': 136,\n",
       " 'surface': 137,\n",
       " 'thick': 138,\n",
       " 'line': 139,\n",
       " 'temperature': 140,\n",
       " 'ingredients': 141,\n",
       " 'mixer': 142,\n",
       " 'combined': 143,\n",
       " 'dry': 144,\n",
       " 'firm': 145,\n",
       " 'separate': 146,\n",
       " 'bag': 147,\n",
       " 'edges': 148,\n",
       " 'stand': 149,\n",
       " 'inches': 150,\n",
       " 'salted': 151,\n",
       " 'vegetables': 152,\n",
       " 'cake': 153,\n",
       " 'saute': 154,\n",
       " 'cookies': 155,\n",
       " 'fork': 156,\n",
       " 'fill': 157,\n",
       " 'boiling': 158,\n",
       " 'enough': 159,\n",
       " 'per': 160,\n",
       " 'overnight': 161,\n",
       " 'toothpick': 162,\n",
       " 'another': 163,\n",
       " 'two': 164,\n",
       " 'food': 165,\n",
       " 'cream': 166,\n",
       " 'glass': 167,\n",
       " 'drizzle': 168,\n",
       " 'gradually': 169,\n",
       " 'use': 170,\n",
       " 'pans': 171,\n",
       " 'thoroughly': 172,\n",
       " 'electric': 173,\n",
       " 'marinade': 174,\n",
       " 'cooker': 175,\n",
       " 'thickened': 176,\n",
       " 'brush': 177,\n",
       " 'casserole': 178,\n",
       " 'onions': 179,\n",
       " 'fry': 180,\n",
       " 'coated': 181,\n",
       " 'repeat': 182,\n",
       " 'constantly': 183,\n",
       " 'balls': 184,\n",
       " 'muffin': 185,\n",
       " 'light': 186,\n",
       " 'discard': 187,\n",
       " 'aluminum': 188,\n",
       " 'soup': 189,\n",
       " 'loaf': 190,\n",
       " 'fluffy': 191,\n",
       " 'drop': 192,\n",
       " 'juices': 193,\n",
       " 'divide': 194,\n",
       " 'seal': 195,\n",
       " 'slow': 196,\n",
       " 'heated': 197,\n",
       " 'processor': 198,\n",
       " 'microwave': 199,\n",
       " 'juice': 200,\n",
       " 'cold': 201,\n",
       " 'xinch': 202,\n",
       " 'lid': 203,\n",
       " 'turning': 204,\n",
       " 'around': 205,\n",
       " 'knife': 206,\n",
       " 'floured': 207,\n",
       " 'softened': 208,\n",
       " 'apart': 209,\n",
       " 'run': 210,\n",
       " 'container': 211,\n",
       " 'excess': 212,\n",
       " 'spray': 213,\n",
       " 'speed': 214,\n",
       " 'dip': 215,\n",
       " 'shape': 216,\n",
       " 'towels': 217,\n",
       " 'immediately': 218,\n",
       " 'cooled': 219,\n",
       " 'covered': 220,\n",
       " 'seconds': 221,\n",
       " 'greased': 222,\n",
       " 'sift': 223,\n",
       " 'room': 224,\n",
       " 'back': 225,\n",
       " 'garnish': 226,\n",
       " 'keep': 227,\n",
       " 'thermometer': 228,\n",
       " 'shallow': 229,\n",
       " 'crust': 230,\n",
       " 'translucent': 231,\n",
       " 'parchment': 232,\n",
       " 'patties': 233,\n",
       " 'piece': 234,\n",
       " 'deep': 235,\n",
       " 'chilled': 236,\n",
       " 'meanwhile': 237,\n",
       " 'rest': 238,\n",
       " 'frequently': 239,\n",
       " 'clear': 240,\n",
       " 'dissolved': 241,\n",
       " 'still': 242,\n",
       " 'potato': 243,\n",
       " 'ball': 244,\n",
       " 'carefully': 245,\n",
       " 'done': 246,\n",
       " 'creamy': 247,\n",
       " 'prepare': 248,\n",
       " 'slowly': 249,\n",
       " 'flavors': 250,\n",
       " 'uncovered': 251,\n",
       " 'rinse': 252,\n",
       " 'store': 253,\n",
       " 'grate': 254,\n",
       " 'according': 255,\n",
       " 'fragrant': 256,\n",
       " 'additional': 257,\n",
       " 'breasts': 258,\n",
       " 'shake': 259,\n",
       " 'margarine': 260,\n",
       " 'process': 261,\n",
       " 'instantread': 262,\n",
       " 'consistency': 263,\n",
       " 'several': 264,\n",
       " 'reserved': 265,\n",
       " 'removing': 266,\n",
       " 'crumble': 267,\n",
       " 'tops': 268,\n",
       " 'crumbs': 269,\n",
       " 'marinate': 270,\n",
       " 'fish': 271,\n",
       " 'round': 272,\n",
       " 'put': 273,\n",
       " 'knead': 274,\n",
       " 'stiff': 275,\n",
       " 'necessary': 276,\n",
       " 'nuts': 277,\n",
       " 'crisp': 278,\n",
       " 'absorbed': 279,\n",
       " 'ungreased': 280,\n",
       " 'adding': 281,\n",
       " 'mash': 282,\n",
       " 'peel': 283,\n",
       " 'thin': 284,\n",
       " 'salad': 285,\n",
       " 'nonstick': 286,\n",
       " 'rolling': 287,\n",
       " 'towel': 288,\n",
       " 'broiler': 289,\n",
       " 'dressing': 290,\n",
       " 'peaks': 291,\n",
       " 'dissolve': 292,\n",
       " 'mixed': 293,\n",
       " 'rise': 294,\n",
       " 'ready': 295,\n",
       " 'pasta': 296,\n",
       " 'inside': 297,\n",
       " 'read': 298,\n",
       " 'easily': 299,\n",
       " 'bite': 300,\n",
       " 'work': 301,\n",
       " 'ice': 302,\n",
       " 'fruit': 303,\n",
       " 'chop': 304,\n",
       " 'al': 305,\n",
       " 'dente': 306,\n",
       " 'incorporated': 307,\n",
       " 'racks': 308,\n",
       " 'puree': 309,\n",
       " 'frosting': 310,\n",
       " 'flip': 311,\n",
       " 'scoop': 312,\n",
       " 'size': 313,\n",
       " 'heavy': 314,\n",
       " 'little': 315,\n",
       " 'oil': 316,\n",
       " 'forms': 317,\n",
       " 'pie': 318,\n",
       " 'strips': 319,\n",
       " 'begins': 320,\n",
       " 'topping': 321,\n",
       " 'resealable': 322,\n",
       " 'beating': 323,\n",
       " 'pastry': 324,\n",
       " 'pat': 325,\n",
       " 'square': 326,\n",
       " 'dutch': 327,\n",
       " 'directions': 328,\n",
       " 'soak': 329,\n",
       " 'spatula': 330,\n",
       " 'squares': 331,\n",
       " 'thickens': 332,\n",
       " 'strain': 333,\n",
       " 'increase': 334,\n",
       " 'skin': 335,\n",
       " 'lay': 336,\n",
       " 'bubbly': 337,\n",
       " 'thickness': 338,\n",
       " 'pulse': 339,\n",
       " 'begin': 340,\n",
       " 'cutting': 341,\n",
       " 'simmering': 342,\n",
       " 'microwavesafe': 343,\n",
       " 'platter': 344,\n",
       " 'second': 345,\n",
       " 'leaving': 346,\n",
       " 'needed': 347,\n",
       " 'times': 348,\n",
       " 'full': 349,\n",
       " 'tortilla': 350,\n",
       " 'batches': 351,\n",
       " 'bowls': 352,\n",
       " 'middle': 353,\n",
       " 'hands': 354,\n",
       " 'reserve': 355,\n",
       " 'jars': 356,\n",
       " 'fat': 357,\n",
       " 'onion': 358,\n",
       " 'freeze': 359,\n",
       " 'wooden': 360,\n",
       " 'outdoor': 361,\n",
       " 'crumbly': 362,\n",
       " 'squeeze': 363,\n",
       " 'flat': 364,\n",
       " 'shell': 365,\n",
       " 'edge': 366,\n",
       " 'tomato': 367,\n",
       " 'toast': 368,\n",
       " 'layers': 369,\n",
       " 'roasting': 370,\n",
       " 'wok': 371,\n",
       " 'paste': 372,\n",
       " 'almost': 373,\n",
       " 'broil': 374,\n",
       " 'tightly': 375,\n",
       " 'reduced': 376,\n",
       " 'hand': 377,\n",
       " 'slotted': 378,\n",
       " 'doubled': 379,\n",
       " 'stockpot': 380,\n",
       " 'along': 381,\n",
       " 'break': 382,\n",
       " 'open': 383,\n",
       " 'approximately': 384,\n",
       " 'amount': 385,\n",
       " 'cubes': 386,\n",
       " 'stock': 387,\n",
       " 'sit': 388,\n",
       " 'glaze': 389,\n",
       " 'toasted': 390,\n",
       " 'bread': 391,\n",
       " 'bubbling': 392,\n",
       " 'steam': 393,\n",
       " 'sure': 394,\n",
       " 'reserving': 395,\n",
       " 'addition': 396,\n",
       " 'creamed': 397,\n",
       " 'double': 398,\n",
       " 'colander': 399,\n",
       " 'long': 400,\n",
       " 'single': 401,\n",
       " 'whip': 402,\n",
       " 'soften': 403,\n",
       " 'rolls': 404,\n",
       " 'halfway': 405,\n",
       " 'alternately': 406,\n",
       " 'color': 407,\n",
       " 'roast': 408,\n",
       " 'cutter': 409,\n",
       " 'butter': 410,\n",
       " 'start': 411,\n",
       " 'flatten': 412,\n",
       " 'peppers': 413,\n",
       " 'spoonfuls': 414,\n",
       " 'ladle': 415,\n",
       " 'every': 416,\n",
       " 'even': 417,\n",
       " 'rub': 418,\n",
       " 'moistened': 419,\n",
       " 'outside': 420,\n",
       " 'equal': 421,\n",
       " 'griddle': 422,\n",
       " 'end': 423,\n",
       " 'jar': 424,\n",
       " 'often': 425,\n",
       " 'boiler': 426,\n",
       " 'scrape': 427,\n",
       " 'airtight': 428,\n",
       " 'loaves': 429,\n",
       " 'dust': 430,\n",
       " 'tube': 431,\n",
       " 'whisking': 432,\n",
       " 'fully': 433,\n",
       " 'waxed': 434,\n",
       " 'quickly': 435,\n",
       " 'doneness': 436,\n",
       " 'sharp': 437,\n",
       " 'like': 438,\n",
       " 'prevent': 439,\n",
       " 'crispy': 440,\n",
       " 'vegetable': 441,\n",
       " 'frost': 442,\n",
       " 'resembles': 443,\n",
       " 'broth': 444,\n",
       " 'hold': 445,\n",
       " 'lengthwise': 446,\n",
       " 'taste': 447,\n",
       " 'lined': 448,\n",
       " 'glasses': 449,\n",
       " 'cloth': 450,\n",
       " 'whites': 451,\n",
       " 'may': 452,\n",
       " 'halves': 453,\n",
       " 'rectangle': 454,\n",
       " 'coarse': 455,\n",
       " 'yet': 456,\n",
       " 'whipped': 457,\n",
       " 'lower': 458,\n",
       " 'mushroom': 459,\n",
       " 'wilted': 460,\n",
       " 'cakes': 461,\n",
       " 'wet': 462,\n",
       " 'internal': 463,\n",
       " 'adjust': 464,\n",
       " 'apple': 465,\n",
       " 'starting': 466,\n",
       " 'warmed': 467,\n",
       " 'bubbles': 468,\n",
       " 'bone': 469,\n",
       " 'scraping': 470,\n",
       " 'moist': 471,\n",
       " 'making': 472,\n",
       " 'first': 473,\n",
       " 'board': 474,\n",
       " 'next': 475,\n",
       " 'seeds': 476,\n",
       " 'leave': 477,\n",
       " 'three': 478,\n",
       " 'yolks': 479,\n",
       " 'cooling': 480,\n",
       " 'freezer': 481,\n",
       " 'dredge': 482,\n",
       " 'sandwich': 483,\n",
       " 'icing': 484,\n",
       " 'plates': 485,\n",
       " 'take': 486,\n",
       " 'rounded': 487,\n",
       " 'drippings': 488,\n",
       " 'finish': 489,\n",
       " 'liners': 490,\n",
       " 'air': 491}"
      ]
     },
     "execution_count": 11,
     "metadata": {},
     "output_type": "execute_result"
    }
   ],
   "source": [
    "common_instruction_words_dict"
   ]
  },
  {
   "cell_type": "code",
   "execution_count": 12,
   "metadata": {},
   "outputs": [],
   "source": [
    "instruction_vectorizer = CountVectorizer(vocabulary=common_instruction_words_dict)\n",
    "\n",
    "ingredient_vectorizer = CountVectorizer(vocabulary=common_ingredient_words_dict)"
   ]
  },
  {
   "cell_type": "code",
   "execution_count": 13,
   "metadata": {},
   "outputs": [],
   "source": [
    "A = instruction_vectorizer.fit_transform(data[\"instructions\"])\n",
    "A_ingredients = ingredient_vectorizer.fit_transform(data[\"ingredients\"])"
   ]
  },
  {
   "cell_type": "code",
   "execution_count": null,
   "metadata": {},
   "outputs": [],
   "source": []
  },
  {
   "cell_type": "code",
   "execution_count": null,
   "metadata": {},
   "outputs": [],
   "source": [
    "# B = cosine_similarity(A, A[1,:])"
   ]
  },
  {
   "cell_type": "code",
   "execution_count": null,
   "metadata": {},
   "outputs": [],
   "source": [
    "# np.histogram(B, bins=4)"
   ]
  },
  {
   "cell_type": "code",
   "execution_count": null,
   "metadata": {},
   "outputs": [],
   "source": [
    "# A2 = A[0:100,:]\n",
    "# print(np.shape(A2)[0])\n",
    "# G2 = nx.Graph()\n",
    "# for i, attr in data[0:100].iterrows():\n",
    "#     G2.add_node(i, title = attr[0], ingredients = attr[1], instructions = attr[2])\n",
    "\n",
    "# for i in range((np.shape(A2))[0]):\n",
    "#     # if i%1000 == 0: \n",
    "#     #     print(i/(np.shape(A2))[0])\n",
    "#     current_node = data.index[i]\n",
    "#     current_node_similarity = cosine_similarity(A2, A2[i,:])\n",
    "#     for j in range((np.shape(A2))[0]):\n",
    "#         target_node = data.index[j]\n",
    "#         similarity = current_node_similarity[j]\n",
    "#         if (similarity > 0.5 and current_node != target_node): #arbitrary cutoff\n",
    "#             G2.add_edge(current_node, target_node, weight = float(similarity))"
   ]
  },
  {
   "cell_type": "code",
   "execution_count": null,
   "metadata": {},
   "outputs": [],
   "source": [
    "# A2 = A_ingredients[0:100,:]\n",
    "# G2 = nx.Graph()\n",
    "# for i, attr in data[0:100].iterrows():\n",
    "#     G2.add_node(i, title = attr[0])\n",
    "\n",
    "# for i in range((np.shape(A2))[0]):\n",
    "#     if i%1000 == 0: \n",
    "#         print(i/(np.shape(A2))[0])\n",
    "#     current_node = data.index[i]\n",
    "#     current_node_similarity = cosine_similarity(A2, A2[i,:])\n",
    "#     edges_to_add = np.argwhere(current_node_similarity > .5)[:,0] #arbitrary cutoff\n",
    "#     for j in edges_to_add:\n",
    "#         target_node = data.index[j]\n",
    "#         similarity = current_node_similarity[j]\n",
    "#         if (current_node != target_node): \n",
    "#             G2.add_edge(current_node, target_node, weight = float(similarity))"
   ]
  },
  {
   "cell_type": "code",
   "execution_count": null,
   "metadata": {},
   "outputs": [],
   "source": [
    "# current_node_similarity = cosine_similarity(A, A[1,:])\n",
    "\n"
   ]
  },
  {
   "cell_type": "code",
   "execution_count": null,
   "metadata": {},
   "outputs": [],
   "source": [
    "# thing = np.vstack((np.ravel(current_node_similarity),np.array(range(39522))))\n",
    "\n",
    "# np.shape(thing[:,] > .5)"
   ]
  },
  {
   "cell_type": "code",
   "execution_count": 14,
   "metadata": {},
   "outputs": [
    {
     "name": "stderr",
     "output_type": "stream",
     "text": [
      "/tmp/ipykernel_36488/457635091.py:3: FutureWarning: Series.__getitem__ treating keys as positions is deprecated. In a future version, integer keys will always be treated as labels (consistent with DataFrame behavior). To access a value by position, use `ser.iloc[pos]`\n",
      "  G.add_node(i, title = attr[0])\n"
     ]
    },
    {
     "name": "stdout",
     "output_type": "stream",
     "text": [
      "0.0\n"
     ]
    },
    {
     "name": "stderr",
     "output_type": "stream",
     "text": [
      "/tmp/ipykernel_36488/457635091.py:15: DeprecationWarning: Conversion of an array with ndim > 0 to a scalar is deprecated, and will error in future. Ensure you extract a single element from your array before performing this operation. (Deprecated NumPy 1.25.)\n",
      "  G.add_edge(current_node, target_node, weight = float(similarity))\n"
     ]
    },
    {
     "name": "stdout",
     "output_type": "stream",
     "text": [
      "0.2\n",
      "0.4\n",
      "0.6\n",
      "0.8\n"
     ]
    }
   ],
   "source": [
    "G = nx.Graph()\n",
    "for i, attr in data.iterrows():\n",
    "    G.add_node(i, title = attr[0])\n",
    "\n",
    "for i in range((np.shape(A))[0]):\n",
    "    if i%1000 == 0: \n",
    "        print(i/(np.shape(A))[0])\n",
    "    current_node = data.index[i]\n",
    "    current_node_similarity = cosine_similarity(A, A[i,:])\n",
    "    edges_to_add = np.argwhere(current_node_similarity > .5)[:,0] #arbitrary cutoff\n",
    "    for j in edges_to_add:\n",
    "        target_node = data.index[j]\n",
    "        similarity = current_node_similarity[j]\n",
    "        if (current_node != target_node): \n",
    "            G.add_edge(current_node, target_node, weight = float(similarity))"
   ]
  },
  {
   "cell_type": "code",
   "execution_count": 15,
   "metadata": {},
   "outputs": [],
   "source": [
    "nx.write_gexf(G, \"recipe_instruction_small.gexf\")"
   ]
  },
  {
   "cell_type": "code",
   "execution_count": 16,
   "metadata": {},
   "outputs": [
    {
     "name": "stderr",
     "output_type": "stream",
     "text": [
      "/tmp/ipykernel_36488/2906347352.py:3: FutureWarning: Series.__getitem__ treating keys as positions is deprecated. In a future version, integer keys will always be treated as labels (consistent with DataFrame behavior). To access a value by position, use `ser.iloc[pos]`\n",
      "  G_ingr.add_node(i, title = attr[0])\n"
     ]
    },
    {
     "name": "stdout",
     "output_type": "stream",
     "text": [
      "0.0\n"
     ]
    },
    {
     "name": "stderr",
     "output_type": "stream",
     "text": [
      "/tmp/ipykernel_36488/2906347352.py:15: DeprecationWarning: Conversion of an array with ndim > 0 to a scalar is deprecated, and will error in future. Ensure you extract a single element from your array before performing this operation. (Deprecated NumPy 1.25.)\n",
      "  G_ingr.add_edge(current_node, target_node, weight = float(similarity))\n"
     ]
    },
    {
     "name": "stdout",
     "output_type": "stream",
     "text": [
      "0.2\n",
      "0.4\n",
      "0.6\n",
      "0.8\n"
     ]
    }
   ],
   "source": [
    "G_ingr = nx.Graph()\n",
    "for i, attr in data.iterrows():\n",
    "    G_ingr.add_node(i, title = attr[0])\n",
    "\n",
    "for i in range((np.shape(A_ingredients))[0]):\n",
    "    if i%1000 == 0: \n",
    "        print(i/(np.shape(A_ingredients))[0])\n",
    "    current_node = data.index[i]\n",
    "    current_node_similarity = cosine_similarity(A_ingredients, A_ingredients[i,:])\n",
    "    edges_to_add = np.argwhere(current_node_similarity > .5)[:,0] #arbitrary cutoff\n",
    "    for j in edges_to_add:\n",
    "        target_node = data.index[j]\n",
    "        similarity = current_node_similarity[j]\n",
    "        if (current_node != target_node): \n",
    "            G_ingr.add_edge(current_node, target_node, weight = float(similarity))"
   ]
  },
  {
   "cell_type": "code",
   "execution_count": 17,
   "metadata": {},
   "outputs": [],
   "source": [
    "nx.write_gexf(G_ingr, \"recipe_ingredient_small.gexf\")"
   ]
  },
  {
   "cell_type": "code",
   "execution_count": 18,
   "metadata": {},
   "outputs": [
    {
     "data": {
      "text/plain": [
       "'Preheat oven to 450 degrees F (230 degrees C).\\nAdd the sugar gradually to the pumpkin puree. Beat well an stir in the flour, salt and spices. Stir in the corn syrup and beat well. Stir in the slightly beaten egg, then slowly add the evaporated milk, mixing until well blended. Pour the batter into the unbaked pie shell.\\nBake at 450 degrees F (230 degrees C) for 10 minutes then reduce the oven temperature to 325 degrees F (165 degrees F) and continue baking pie for an additional 30 minutes or until a knife inserted into the mixture comes out clean.\\n'"
      ]
     },
     "execution_count": 18,
     "metadata": {},
     "output_type": "execute_result"
    }
   ],
   "source": [
    "data.iloc[1].iloc[2]"
   ]
  },
  {
   "cell_type": "code",
   "execution_count": 19,
   "metadata": {},
   "outputs": [
    {
     "name": "stderr",
     "output_type": "stream",
     "text": [
      "/tmp/ipykernel_36488/1508704262.py:40: FutureWarning: Series.__getitem__ treating keys as positions is deprecated. In a future version, integer keys will always be treated as labels (consistent with DataFrame behavior). To access a value by position, use `ser.iloc[pos]`\n",
      "  G2.add_node(i, title = attr[0])\n"
     ]
    },
    {
     "name": "stdout",
     "output_type": "stream",
     "text": [
      "0.0\n"
     ]
    },
    {
     "name": "stderr",
     "output_type": "stream",
     "text": [
      "/tmp/ipykernel_36488/1508704262.py:52: DeprecationWarning: Conversion of an array with ndim > 0 to a scalar is deprecated, and will error in future. Ensure you extract a single element from your array before performing this operation. (Deprecated NumPy 1.25.)\n",
      "  G2.add_edge(current_node, target_node, weight = float(similarity))\n"
     ]
    },
    {
     "name": "stdout",
     "output_type": "stream",
     "text": [
      "0.2\n",
      "0.4\n",
      "0.6\n",
      "0.8\n"
     ]
    },
    {
     "name": "stderr",
     "output_type": "stream",
     "text": [
      "/tmp/ipykernel_36488/1508704262.py:58: FutureWarning: Series.__getitem__ treating keys as positions is deprecated. In a future version, integer keys will always be treated as labels (consistent with DataFrame behavior). To access a value by position, use `ser.iloc[pos]`\n",
      "  G2_ingr.add_node(i, title = attr[0])\n"
     ]
    },
    {
     "name": "stdout",
     "output_type": "stream",
     "text": [
      "0.0\n"
     ]
    },
    {
     "name": "stderr",
     "output_type": "stream",
     "text": [
      "/tmp/ipykernel_36488/1508704262.py:70: DeprecationWarning: Conversion of an array with ndim > 0 to a scalar is deprecated, and will error in future. Ensure you extract a single element from your array before performing this operation. (Deprecated NumPy 1.25.)\n",
      "  G2_ingr.add_edge(current_node, target_node, weight = float(similarity))\n"
     ]
    },
    {
     "name": "stdout",
     "output_type": "stream",
     "text": [
      "0.2\n",
      "0.4\n",
      "0.6\n",
      "0.8\n"
     ]
    }
   ],
   "source": [
    "# Instructions\n",
    "common_instruction_words = []\n",
    "\n",
    "for item in FreqDist(all_instruction_words).items():\n",
    "    # if (item[1]) > (len(data)*.01): # remove words that appear less than once per hundred recipes\n",
    "    common_instruction_words.append(item)\n",
    "\n",
    "\n",
    "common_instruction_words = sorted(common_instruction_words, key=lambda x: x[1], reverse=True)\n",
    "\n",
    "common_instruction_words_dict = {}\n",
    "for i in range(len(common_instruction_words)):\n",
    "    common_instruction_words_dict[common_instruction_words[i][0]] = i\n",
    "\n",
    "\n",
    "\n",
    "# Ingredients\n",
    "common_ingredient_words = []\n",
    "for item in FreqDist(all_ingredient_words).items():\n",
    "    # if (item[1]) > (len(data)*.01): # remove words that appear less than once per hundred recipes\n",
    "    common_ingredient_words.append(item)\n",
    "\n",
    "common_ingredient_words = sorted(common_ingredient_words, key=lambda x: x[1], reverse=True)\n",
    "\n",
    "common_ingredient_words_dict = {}\n",
    "for i in range(len(common_ingredient_words)):\n",
    "    common_ingredient_words_dict[common_ingredient_words[i][0]] = i\n",
    "\n",
    "\n",
    "instruction_vectorizer = CountVectorizer(vocabulary=common_instruction_words_dict)\n",
    "\n",
    "ingredient_vectorizer = CountVectorizer(vocabulary=common_ingredient_words_dict)\n",
    "\n",
    "A = instruction_vectorizer.fit_transform(data[\"instructions\"])\n",
    "A_ingredients = ingredient_vectorizer.fit_transform(data[\"ingredients\"])\n",
    "\n",
    "\n",
    "G2 = nx.Graph()\n",
    "for i, attr in data.iterrows():\n",
    "    G2.add_node(i, title = attr[0])\n",
    "\n",
    "for i in range((np.shape(A))[0]):\n",
    "    if i%1000 == 0: \n",
    "        print(i/(np.shape(A))[0])\n",
    "    current_node = data.index[i]\n",
    "    current_node_similarity = cosine_similarity(A, A[i,:])\n",
    "    edges_to_add = np.argwhere(current_node_similarity > .5)[:,0] #arbitrary cutoff\n",
    "    for j in edges_to_add:\n",
    "        target_node = data.index[j]\n",
    "        similarity = current_node_similarity[j]\n",
    "        if (current_node != target_node): \n",
    "            G2.add_edge(current_node, target_node, weight = float(similarity))\n",
    "\n",
    "\n",
    "\n",
    "G2_ingr = nx.Graph()\n",
    "for i, attr in data.iterrows():\n",
    "    G2_ingr.add_node(i, title = attr[0])\n",
    "\n",
    "for i in range((np.shape(A_ingredients))[0]):\n",
    "    if i%1000 == 0: \n",
    "        print(i/(np.shape(A_ingredients))[0])\n",
    "    current_node = data.index[i]\n",
    "    current_node_similarity = cosine_similarity(A_ingredients, A_ingredients[i,:])\n",
    "    edges_to_add = np.argwhere(current_node_similarity > .5)[:,0] #arbitrary cutoff\n",
    "    for j in edges_to_add:\n",
    "        target_node = data.index[j]\n",
    "        similarity = current_node_similarity[j]\n",
    "        if (current_node != target_node): \n",
    "            G2_ingr.add_edge(current_node, target_node, weight = float(similarity))"
   ]
  },
  {
   "cell_type": "code",
   "execution_count": 20,
   "metadata": {},
   "outputs": [],
   "source": [
    "nx.write_gexf(G2, \"recipe_instruction_nofilter.gexf\")\n",
    "nx.write_gexf(G2_ingr, \"recipe_ingredient_nofilter.gexf\")"
   ]
  },
  {
   "cell_type": "code",
   "execution_count": 21,
   "metadata": {},
   "outputs": [
    {
     "data": {
      "text/plain": [
       "206.3208166497408"
      ]
     },
     "execution_count": 21,
     "metadata": {},
     "output_type": "execute_result"
    }
   ],
   "source": [
    "scipy.sparse.linalg.norm(nx.adjacency_matrix(G_ingr) - nx.adjacency_matrix(G2_ingr))"
   ]
  },
  {
   "cell_type": "code",
   "execution_count": 22,
   "metadata": {},
   "outputs": [
    {
     "data": {
      "text/plain": [
       "406.0002125811533"
      ]
     },
     "execution_count": 22,
     "metadata": {},
     "output_type": "execute_result"
    }
   ],
   "source": [
    "scipy.sparse.linalg.norm(nx.adjacency_matrix(G) - nx.adjacency_matrix(G2))"
   ]
  },
  {
   "cell_type": "code",
   "execution_count": 23,
   "metadata": {},
   "outputs": [
    {
     "data": {
      "text/plain": [
       "585.6619921235603"
      ]
     },
     "execution_count": 23,
     "metadata": {},
     "output_type": "execute_result"
    }
   ],
   "source": [
    "scipy.sparse.linalg.norm(nx.adjacency_matrix(G) - nx.adjacency_matrix(G_ingr))"
   ]
  },
  {
   "cell_type": "code",
   "execution_count": 24,
   "metadata": {},
   "outputs": [
    {
     "data": {
      "text/plain": [
       "381.3845630214989"
      ]
     },
     "execution_count": 24,
     "metadata": {},
     "output_type": "execute_result"
    }
   ],
   "source": [
    "scipy.sparse.linalg.norm(nx.adjacency_matrix(G2_ingr) - nx.adjacency_matrix(G2))"
   ]
  },
  {
   "cell_type": "code",
   "execution_count": null,
   "metadata": {},
   "outputs": [],
   "source": [
    "data"
   ]
  },
  {
   "cell_type": "code",
   "execution_count": 25,
   "metadata": {},
   "outputs": [],
   "source": [
    "instructions = list(data[\"clean_instructions_masked\"])\n",
    "ingredients = list(data[\"clean_ingredients\"])\n",
    "tfidf = TfidfVectorizer()\n",
    "tfidf2 = TfidfVectorizer()"
   ]
  },
  {
   "cell_type": "code",
   "execution_count": 27,
   "metadata": {},
   "outputs": [],
   "source": [
    "A = tfidf.fit_transform(instructions)\n",
    "A_ingredients = tfidf2.fit_transform(ingredients)"
   ]
  },
  {
   "cell_type": "code",
   "execution_count": 31,
   "metadata": {},
   "outputs": [
    {
     "data": {
      "text/plain": [
       "array(['yorkshire', 'hibiscus', 'herdez', 'highquality', 'high',\n",
       "       'healthy', 'herbed', 'hen', 'hellmannsbest', 'hundredyear', 'hugs',\n",
       "       'huckleberries', 'hotpepper', 'heirloom', 'heat', 'hollandstyle',\n",
       "       'horn', 'horizon', 'hops', 'honeycured', 'vinegarbased',\n",
       "       'vindaloo', 'watkins', 'wilton', 'wieners', 'widemouth',\n",
       "       'wholemilk', 'vietnamese', 'via', 'vh', 'wavy', 'wheels', 'wet',\n",
       "       'whitewine', 'whitefish', 'animal', 'angus', 'wesson',\n",
       "       'wellbeaten', 'wax', 'unrefined', 'unopened', 'valencia', 'using',\n",
       "       'untrimmed', 'untreated', 'autumn', 'authentic', 'atlantic',\n",
       "       'aspartame', 'unsifted', 'unseasoned', 'aromatic', 'archer',\n",
       "       'ascorbic', 'asafoetida', 'asadero', 'artisan', 'wash',\n",
       "       'apriplums', 'appleton', 'applerosemary', 'arthur', 'arrowroot',\n",
       "       'hock', 'hispanic', 'honeycomb', 'homestyle', 'holy',\n",
       "       'havartipepper', 'havarti', 'holes', 'haldi', 'hake', 'hangar',\n",
       "       'handle', 'hass', 'inchthin', 'inspired', 'insects', 'injector',\n",
       "       'injection', 'injectable', 'ingredient', 'truffle', 'tropical',\n",
       "       'udon', 'tzatziki', 'ball', 'baker', 'bannock', 'truroots',\n",
       "       'aylmer', 'available', 'bai', 'baguettes', 'bagel', 'balls',\n",
       "       'untoasted', 'valentina'], dtype=object)"
      ]
     },
     "execution_count": 31,
     "metadata": {},
     "output_type": "execute_result"
    }
   ],
   "source": [
    "feature_array = np.array(tfidf2.get_feature_names_out())\n",
    "tfidf_sorting = np.argsort(tfidf2.idf_)[::-1]\n",
    "\n",
    "n = 100\n",
    "top_n = feature_array[tfidf_sorting][:n]\n",
    "top_n"
   ]
  },
  {
   "cell_type": "code",
   "execution_count": 30,
   "metadata": {},
   "outputs": [
    {
     "data": {
      "text/plain": [
       "array(['yogurt', 'absorbing', 'zwieback', 'accentsr', 'yogurtdipped',\n",
       "       'accompaniments', 'zip', 'accordingly', 'yummy', 'yum', 'youve',\n",
       "       'yolkflour', 'youll', 'allows', 'align', 'machines', 'mabo',\n",
       "       'lumpias', 'majority', 'magic', 'marzipan', 'marshamallow',\n",
       "       'marrow', 'marked', 'loved', 'love', 'margarineside',\n",
       "       'margarinedripping', 'marblepattern', 'marbled',\n",
       "       'marinarapancetta', 'marinaracream', 'loosens', 'manual',\n",
       "       'mangoes', 'margin', 'margheritar', 'ashcovered', 'artificial',\n",
       "       'assuring', 'assure', 'welloiled', 'wheat', 'wetting', 'welsh',\n",
       "       'whisked', 'ask', 'welldissolved', 'wellbeaten', 'wellseasoned',\n",
       "       'wells', 'wellrounded', 'wellpureed', 'applemushroom', 'apricots',\n",
       "       'approval', 'areas', 'arancini', 'aqua', 'weed', 'baggie',\n",
       "       'bagels', 'baconwrapped', 'baconpepper', 'bacononion',\n",
       "       'watercress', 'watched', 'washing', 'web', 'wear', 'aylmerr',\n",
       "       'avoiding', 'warmth', 'warms', 'warming', 'warmhot', 'watertight',\n",
       "       'waterfilled', 'au', 'attractive', 'wake', 'bask', 'basin',\n",
       "       'barrier', 'barrel', 'bat', 'vhr', 'vessel', 'voila', 'voids',\n",
       "       'vitamixr', 'walnutsize', 'walls', 'barbequed', 'bannocks',\n",
       "       'bands', 'verrrrry', 'veins', 'vinegarwater', 'vinegar'],\n",
       "      dtype=object)"
      ]
     },
     "execution_count": 30,
     "metadata": {},
     "output_type": "execute_result"
    }
   ],
   "source": [
    "feature_array = np.array(tfidf.get_feature_names_out())\n",
    "tfidf_sorting = np.argsort(tfidf.idf_)[::-1]\n",
    "\n",
    "n = 100\n",
    "top_n = feature_array[tfidf_sorting][:n]\n",
    "top_n"
   ]
  },
  {
   "cell_type": "code",
   "execution_count": 29,
   "metadata": {},
   "outputs": [
    {
     "data": {
      "text/plain": [
       "array([7.7256337 , 6.47287073, 4.72990143, ..., 8.13109881, 7.7256337 ,\n",
       "       8.82424599])"
      ]
     },
     "execution_count": 29,
     "metadata": {},
     "output_type": "execute_result"
    }
   ],
   "source": [
    "tfidf.idf_"
   ]
  },
  {
   "cell_type": "code",
   "execution_count": 37,
   "metadata": {},
   "outputs": [
    {
     "name": "stderr",
     "output_type": "stream",
     "text": [
      "/tmp/ipykernel_36488/1284878798.py:3: FutureWarning: Series.__getitem__ treating keys as positions is deprecated. In a future version, integer keys will always be treated as labels (consistent with DataFrame behavior). To access a value by position, use `ser.iloc[pos]`\n",
      "  G3.add_node(i, title = attr[0])\n",
      "/tmp/ipykernel_36488/1284878798.py:15: DeprecationWarning: Conversion of an array with ndim > 0 to a scalar is deprecated, and will error in future. Ensure you extract a single element from your array before performing this operation. (Deprecated NumPy 1.25.)\n",
      "  G3.add_edge(current_node, target_node, weight = float(similarity))\n"
     ]
    },
    {
     "name": "stdout",
     "output_type": "stream",
     "text": [
      "0.0\n",
      "0.2\n",
      "0.4\n",
      "0.6\n",
      "0.8\n"
     ]
    },
    {
     "name": "stderr",
     "output_type": "stream",
     "text": [
      "/tmp/ipykernel_36488/1284878798.py:21: FutureWarning: Series.__getitem__ treating keys as positions is deprecated. In a future version, integer keys will always be treated as labels (consistent with DataFrame behavior). To access a value by position, use `ser.iloc[pos]`\n",
      "  G3_ingr.add_node(i, title = attr[0])\n"
     ]
    },
    {
     "name": "stdout",
     "output_type": "stream",
     "text": [
      "0.0\n"
     ]
    },
    {
     "name": "stderr",
     "output_type": "stream",
     "text": [
      "/tmp/ipykernel_36488/1284878798.py:33: DeprecationWarning: Conversion of an array with ndim > 0 to a scalar is deprecated, and will error in future. Ensure you extract a single element from your array before performing this operation. (Deprecated NumPy 1.25.)\n",
      "  G3_ingr.add_edge(current_node, target_node, weight = float(similarity))\n"
     ]
    },
    {
     "name": "stdout",
     "output_type": "stream",
     "text": [
      "0.2\n",
      "0.4\n",
      "0.6\n",
      "0.8\n"
     ]
    }
   ],
   "source": [
    "G3 = nx.Graph()\n",
    "for i, attr in data.iterrows():\n",
    "    G3.add_node(i, title = attr[0])\n",
    "\n",
    "for i in range((np.shape(A))[0]):\n",
    "    if i%1000 == 0: \n",
    "        print(i/(np.shape(A))[0])\n",
    "    current_node = data.index[i]\n",
    "    current_node_similarity = cosine_similarity(A, A[i,:])\n",
    "    edges_to_add = np.argwhere(current_node_similarity > .5)[:,0] #arbitrary cutoff\n",
    "    for j in edges_to_add:\n",
    "        target_node = data.index[j]\n",
    "        similarity = current_node_similarity[j]\n",
    "        if (current_node != target_node): \n",
    "            G3.add_edge(current_node, target_node, weight = float(similarity))\n",
    "\n",
    "\n",
    "\n",
    "G3_ingr = nx.Graph()\n",
    "for i, attr in data.iterrows():\n",
    "    G3_ingr.add_node(i, title = attr[0])\n",
    "\n",
    "for i in range((np.shape(A_ingredients))[0]):\n",
    "    if i%1000 == 0: \n",
    "        print(i/(np.shape(A_ingredients))[0])\n",
    "    current_node = data.index[i]\n",
    "    current_node_similarity = cosine_similarity(A_ingredients, A_ingredients[i,:])\n",
    "    edges_to_add = np.argwhere(current_node_similarity > .5)[:,0] #arbitrary cutoff\n",
    "    for j in edges_to_add:\n",
    "        target_node = data.index[j]\n",
    "        similarity = current_node_similarity[j]\n",
    "        if (current_node != target_node): \n",
    "            G3_ingr.add_edge(current_node, target_node, weight = float(similarity))"
   ]
  },
  {
   "cell_type": "code",
   "execution_count": 38,
   "metadata": {},
   "outputs": [],
   "source": [
    "nx.write_gexf(G3, \"recipe_instruction_tfidf.gexf\")\n",
    "nx.write_gexf(G3_ingr, \"recipe_ingredient_tfidf.gexf\")"
   ]
  },
  {
   "cell_type": "code",
   "execution_count": 39,
   "metadata": {},
   "outputs": [
    {
     "name": "stderr",
     "output_type": "stream",
     "text": [
      "/tmp/ipykernel_36488/223129550.py:3: FutureWarning: Series.__getitem__ treating keys as positions is deprecated. In a future version, integer keys will always be treated as labels (consistent with DataFrame behavior). To access a value by position, use `ser.iloc[pos]`\n",
      "  G4.add_node(i, title = attr[0])\n"
     ]
    },
    {
     "name": "stdout",
     "output_type": "stream",
     "text": [
      "0.0\n"
     ]
    },
    {
     "name": "stderr",
     "output_type": "stream",
     "text": [
      "/tmp/ipykernel_36488/223129550.py:17: DeprecationWarning: Conversion of an array with ndim > 0 to a scalar is deprecated, and will error in future. Ensure you extract a single element from your array before performing this operation. (Deprecated NumPy 1.25.)\n",
      "  G4.add_edge(current_node, target_node, weight = float(similarity))\n"
     ]
    },
    {
     "name": "stdout",
     "output_type": "stream",
     "text": [
      "0.2\n",
      "0.4\n",
      "0.6\n",
      "0.8\n"
     ]
    },
    {
     "name": "stderr",
     "output_type": "stream",
     "text": [
      "/tmp/ipykernel_36488/223129550.py:23: FutureWarning: Series.__getitem__ treating keys as positions is deprecated. In a future version, integer keys will always be treated as labels (consistent with DataFrame behavior). To access a value by position, use `ser.iloc[pos]`\n",
      "  G4_ingr.add_node(i, title = attr[0])\n"
     ]
    },
    {
     "name": "stdout",
     "output_type": "stream",
     "text": [
      "0.0\n"
     ]
    },
    {
     "name": "stderr",
     "output_type": "stream",
     "text": [
      "/tmp/ipykernel_36488/223129550.py:37: DeprecationWarning: Conversion of an array with ndim > 0 to a scalar is deprecated, and will error in future. Ensure you extract a single element from your array before performing this operation. (Deprecated NumPy 1.25.)\n",
      "  G4_ingr.add_edge(current_node, target_node, weight = float(similarity))\n"
     ]
    },
    {
     "name": "stdout",
     "output_type": "stream",
     "text": [
      "0.2\n",
      "0.4\n",
      "0.6\n",
      "0.8\n"
     ]
    }
   ],
   "source": [
    "G4 = nx.Graph()\n",
    "for i, attr in data.iterrows():\n",
    "    G4.add_node(i, title = attr[0])\n",
    "\n",
    "for i in range((np.shape(A))[0]):\n",
    "    if i%1000 == 0: \n",
    "        print(i/(np.shape(A))[0])\n",
    "    current_node = data.index[i]\n",
    "    current_node_similarity = cosine_similarity(A, A[i,:])\n",
    "    edges_to_add = np.argsort(np.squeeze(current_node_similarity))[::-1]\n",
    "    edges_to_add = np.squeeze(edges_to_add[:3])\n",
    "    # b = np.argwhere(current_node_similarity > .5)[:,0] #arbitrary cutoff\n",
    "    for j in edges_to_add:\n",
    "        target_node = data.index[j]\n",
    "        similarity = current_node_similarity[j]\n",
    "        if (current_node != target_node): \n",
    "            G4.add_edge(current_node, target_node, weight = float(similarity))\n",
    "\n",
    "\n",
    "\n",
    "G4_ingr = nx.Graph()\n",
    "for i, attr in data.iterrows():\n",
    "    G4_ingr.add_node(i, title = attr[0])\n",
    "\n",
    "for i in range((np.shape(A_ingredients))[0]):\n",
    "    if i%1000 == 0: \n",
    "        print(i/(np.shape(A_ingredients))[0])\n",
    "    current_node = data.index[i]\n",
    "    current_node_similarity = cosine_similarity(A_ingredients, A_ingredients[i,:])\n",
    "    # edges_to_add = np.argwhere(current_node_similarity > .5)[:,0] #arbitrary cutoff\n",
    "    edges_to_add = np.argsort(np.squeeze(current_node_similarity))[::-1]\n",
    "    edges_to_add = np.squeeze(edges_to_add[:3])\n",
    "    for j in edges_to_add:\n",
    "        target_node = data.index[j]\n",
    "        similarity = current_node_similarity[j]\n",
    "        if (current_node != target_node): \n",
    "            G4_ingr.add_edge(current_node, target_node, weight = float(similarity))"
   ]
  },
  {
   "cell_type": "code",
   "execution_count": null,
   "metadata": {},
   "outputs": [],
   "source": [
    "current_node_similarity"
   ]
  },
  {
   "cell_type": "code",
   "execution_count": 40,
   "metadata": {},
   "outputs": [],
   "source": [
    "nx.write_gexf(G4, \"recipe_instruction_ranked_tfidf.gexf\")\n",
    "nx.write_gexf(G4_ingr, \"recipe_ingredient_ranked_tfidf.gexf\")"
   ]
  },
  {
   "cell_type": "code",
   "execution_count": null,
   "metadata": {},
   "outputs": [],
   "source": [
    "data.loc[\"k9Wo2oKtwveioGZll5XyvYnviGvJr72\"]"
   ]
  },
  {
   "cell_type": "code",
   "execution_count": null,
   "metadata": {},
   "outputs": [],
   "source": [
    "data.loc[\"iPiuCa80W95Q1hwpAvNcQoAK3GOonMq\"]"
   ]
  },
  {
   "cell_type": "code",
   "execution_count": null,
   "metadata": {},
   "outputs": [],
   "source": [
    "instruction_vectorizer = CountVectorizer(max_df= .5, min_df= 0.0, binary=True)\n",
    "\n",
    "ingredient_vectorizer = CountVectorizer(max_df= .5, min_df= 0.0, binary=True)\n",
    "\n",
    "A = instruction_vectorizer.fit_transform(data[\"instructions\"])\n",
    "A_ingredients = ingredient_vectorizer.fit_transform(data[\"ingredients\"])"
   ]
  },
  {
   "cell_type": "code",
   "execution_count": null,
   "metadata": {},
   "outputs": [],
   "source": [
    "G5 = nx.Graph()\n",
    "for i, attr in data.iterrows():\n",
    "    G5.add_node(i, title = attr[0])\n",
    "\n",
    "for i in range((np.shape(A))[0]):\n",
    "    if i%1000 == 0: \n",
    "        print(i/(np.shape(A))[0])\n",
    "    current_node = data.index[i]\n",
    "    current_node_similarity = cosine_similarity(A, A[i,:])\n",
    "    edges_to_add = np.argwhere(current_node_similarity > .5)[:,0] #arbitrary cutoff\n",
    "    for j in edges_to_add:\n",
    "        target_node = data.index[j]\n",
    "        similarity = current_node_similarity[j]\n",
    "        if (current_node != target_node): \n",
    "            G5.add_edge(current_node, target_node, weight = float(similarity))\n",
    "\n",
    "\n",
    "G5_ingr = nx.Graph()\n",
    "for i, attr in data.iterrows():\n",
    "    G5_ingr.add_node(i, title = attr[0])\n",
    "\n",
    "for i in range((np.shape(A_ingredients))[0]):\n",
    "    if i%1000 == 0: \n",
    "        print(i/(np.shape(A_ingredients))[0])\n",
    "    current_node = data.index[i]\n",
    "    current_node_similarity = cosine_similarity(A_ingredients, A_ingredients[i,:])\n",
    "    edges_to_add = np.argwhere(current_node_similarity > .5)[:,0] #arbitrary cutoff\n",
    "    for j in edges_to_add:\n",
    "        target_node = data.index[j]\n",
    "        similarity = current_node_similarity[j]\n",
    "        if (current_node != target_node): \n",
    "            G5_ingr.add_edge(current_node, target_node, weight = float(similarity)) "
   ]
  },
  {
   "cell_type": "code",
   "execution_count": null,
   "metadata": {},
   "outputs": [],
   "source": [
    "nx.write_gexf(G5, \"recipe_instruction_binary.gexf\")\n",
    "nx.write_gexf(G5_ingr, \"recipe_ingredient_binary.gexf\")"
   ]
  }
 ],
 "metadata": {
  "kernelspec": {
   "display_name": ".venv",
   "language": "python",
   "name": "python3"
  },
  "language_info": {
   "codemirror_mode": {
    "name": "ipython",
    "version": 3
   },
   "file_extension": ".py",
   "mimetype": "text/x-python",
   "name": "python",
   "nbconvert_exporter": "python",
   "pygments_lexer": "ipython3",
   "version": "3.11.0rc1"
  }
 },
 "nbformat": 4,
 "nbformat_minor": 2
}
