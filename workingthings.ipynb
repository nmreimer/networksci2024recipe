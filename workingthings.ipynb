{
 "cells": [
  {
   "cell_type": "code",
   "execution_count": 1,
   "metadata": {},
   "outputs": [],
   "source": [
    "import datacleaning\n",
    "from nltk.tokenize import word_tokenize\n",
    "from nltk.corpus import stopwords\n",
    "from nltk.probability import FreqDist\n",
    "from sklearn.feature_extraction.text import CountVectorizer\n",
    "from sklearn.metrics.pairwise import cosine_similarity\n",
    "import networkx as nx\n",
    "import itertools\n",
    "import matplotlib\n",
    "import numpy as np\n",
    "# https://realpython.com/nltk-nlp-python/\n"
   ]
  },
  {
   "cell_type": "code",
   "execution_count": 3,
   "metadata": {},
   "outputs": [
    {
     "name": "stdout",
     "output_type": "stream",
     "text": [
      "(39522, 7)\n"
     ]
    }
   ],
   "source": [
    "data = datacleaning.clean_recipedata(\"recipes_raw_nosource_ar.json\")\n",
    "print(np.shape(data))\n",
    "data = data.sample(n=5000, random_state=2024)\n",
    "data\n",
    "data.to_csv(\"data_small.csv\")\n",
    "\n"
   ]
  },
  {
   "cell_type": "code",
   "execution_count": 4,
   "metadata": {},
   "outputs": [],
   "source": [
    "data[\"ingredient_words\"] = data.clean_ingredients.apply(word_tokenize)\n",
    "data[\"instruction_words\"] = data.clean_instructions_masked.apply(word_tokenize)"
   ]
  },
  {
   "cell_type": "code",
   "execution_count": 5,
   "metadata": {},
   "outputs": [],
   "source": [
    "ingredient_units = {'ml', 'milliliter','milliliters','liters','teaspoons', 'l','liter','teaspoon','t','tsp','tablespoon','tablespoons','tbl','tbs','tbsp','ounce','oz','fl','cup','cups','c','pint','pints','pt','p','quart','quarts','qt','gal','gals','gallon','gallons','g','mg','milligram','milligrams','gram','grams','pound','pounds','lb','lbs','c','f'}"
   ]
  },
  {
   "cell_type": "code",
   "execution_count": 6,
   "metadata": {},
   "outputs": [],
   "source": [
    "stop_words = set(stopwords.words(\"english\"))\n",
    "stop_words = stop_words.union(ingredient_units)\n",
    "\n",
    "def filter_stop_words(words):\n",
    "    output = list()\n",
    "    for word in words:\n",
    "        if word.casefold() not in stop_words:\n",
    "            output.append(word)\n",
    "    return(output)\n",
    "\n",
    "data[\"instruction_words\"] = data[\"instruction_words\"].apply(filter_stop_words)\n",
    "data[\"ingredient_words\"] = data[\"ingredient_words\"].apply(filter_stop_words)\n"
   ]
  },
  {
   "cell_type": "code",
   "execution_count": 7,
   "metadata": {},
   "outputs": [],
   "source": [
    "data['index'] = data.index"
   ]
  },
  {
   "cell_type": "code",
   "execution_count": 8,
   "metadata": {},
   "outputs": [],
   "source": [
    "all_instruction_words = list(itertools.chain.from_iterable(data[\"instruction_words\"]))\n",
    "all_ingredient_words = list(itertools.chain.from_iterable(data[\"ingredient_words\"]))"
   ]
  },
  {
   "cell_type": "code",
   "execution_count": null,
   "metadata": {},
   "outputs": [],
   "source": []
  },
  {
   "cell_type": "code",
   "execution_count": 9,
   "metadata": {},
   "outputs": [],
   "source": [
    "# Instructions\n",
    "common_instruction_words = []\n",
    "\n",
    "for item in FreqDist(all_instruction_words).items():\n",
    "    if (item[1]) > (len(data)*.01): # remove words that appear less than once per hundred recipes\n",
    "        common_instruction_words.append(item)\n",
    "\n",
    "\n",
    "common_instruction_words = sorted(common_instruction_words, key=lambda x: x[1], reverse=True)\n",
    "\n",
    "common_instruction_words_dict = {}\n",
    "for i in range(len(common_instruction_words)):\n",
    "    common_instruction_words_dict[common_instruction_words[i][0]] = i\n",
    "\n",
    "\n",
    "\n",
    "# Ingredients\n",
    "common_ingredient_words = []\n",
    "for item in FreqDist(all_ingredient_words).items():\n",
    "    if (item[1]) > (len(data)*.01): # remove words that appear less than once per hundred recipes\n",
    "        common_ingredient_words.append(item)\n",
    "\n",
    "common_ingredient_words = sorted(common_ingredient_words, key=lambda x: x[1], reverse=True)\n",
    "\n",
    "common_ingredient_words_dict = {}\n",
    "for i in range(len(common_ingredient_words)):\n",
    "    common_ingredient_words_dict[common_ingredient_words[i][0]] = i"
   ]
  },
  {
   "cell_type": "code",
   "execution_count": 14,
   "metadata": {},
   "outputs": [
    {
     "data": {
      "text/plain": [
       "(326, 2)"
      ]
     },
     "execution_count": 14,
     "metadata": {},
     "output_type": "execute_result"
    }
   ],
   "source": [
    "np.shape(common_ingredient_words)"
   ]
  },
  {
   "cell_type": "code",
   "execution_count": 11,
   "metadata": {},
   "outputs": [],
   "source": [
    "instruction_vectorizer = CountVectorizer(vocabulary=common_instruction_words_dict)\n",
    "\n",
    "ingredient_vectorizer = CountVectorizer(vocabulary=common_ingredient_words_dict)"
   ]
  },
  {
   "cell_type": "code",
   "execution_count": 12,
   "metadata": {},
   "outputs": [],
   "source": [
    "A = instruction_vectorizer.fit_transform(data[\"instructions\"])\n",
    "A_ingredients = ingredient_vectorizer.fit_transform(data[\"ingredients\"])"
   ]
  },
  {
   "cell_type": "code",
   "execution_count": 12,
   "metadata": {},
   "outputs": [],
   "source": [
    "# B = cosine_similarity(A, A[1,:])"
   ]
  },
  {
   "cell_type": "code",
   "execution_count": 13,
   "metadata": {},
   "outputs": [],
   "source": [
    "# np.histogram(B, bins=4)"
   ]
  },
  {
   "cell_type": "code",
   "execution_count": 14,
   "metadata": {},
   "outputs": [],
   "source": [
    "# A2 = A[0:100,:]\n",
    "# print(np.shape(A2)[0])\n",
    "# G2 = nx.Graph()\n",
    "# for i, attr in data[0:100].iterrows():\n",
    "#     G2.add_node(i, title = attr[0], ingredients = attr[1], instructions = attr[2])\n",
    "\n",
    "# for i in range((np.shape(A2))[0]):\n",
    "#     # if i%1000 == 0: \n",
    "#     #     print(i/(np.shape(A2))[0])\n",
    "#     current_node = data.index[i]\n",
    "#     current_node_similarity = cosine_similarity(A2, A2[i,:])\n",
    "#     for j in range((np.shape(A2))[0]):\n",
    "#         target_node = data.index[j]\n",
    "#         similarity = current_node_similarity[j]\n",
    "#         if (similarity > 0.5 and current_node != target_node): #arbitrary cutoff\n",
    "#             G2.add_edge(current_node, target_node, weight = float(similarity))"
   ]
  },
  {
   "cell_type": "code",
   "execution_count": 15,
   "metadata": {},
   "outputs": [],
   "source": [
    "# A2 = A_ingredients[0:100,:]\n",
    "# G2 = nx.Graph()\n",
    "# for i, attr in data[0:100].iterrows():\n",
    "#     G2.add_node(i, title = attr[0])\n",
    "\n",
    "# for i in range((np.shape(A2))[0]):\n",
    "#     if i%1000 == 0: \n",
    "#         print(i/(np.shape(A2))[0])\n",
    "#     current_node = data.index[i]\n",
    "#     current_node_similarity = cosine_similarity(A2, A2[i,:])\n",
    "#     edges_to_add = np.argwhere(current_node_similarity > .5)[:,0] #arbitrary cutoff\n",
    "#     for j in edges_to_add:\n",
    "#         target_node = data.index[j]\n",
    "#         similarity = current_node_similarity[j]\n",
    "#         if (current_node != target_node): \n",
    "#             G2.add_edge(current_node, target_node, weight = float(similarity))"
   ]
  },
  {
   "cell_type": "code",
   "execution_count": 16,
   "metadata": {},
   "outputs": [],
   "source": [
    "# current_node_similarity = cosine_similarity(A, A[1,:])\n",
    "\n"
   ]
  },
  {
   "cell_type": "code",
   "execution_count": 17,
   "metadata": {},
   "outputs": [],
   "source": [
    "# thing = np.vstack((np.ravel(current_node_similarity),np.array(range(39522))))\n",
    "\n",
    "# np.shape(thing[:,] > .5)"
   ]
  },
  {
   "cell_type": "code",
   "execution_count": 13,
   "metadata": {},
   "outputs": [
    {
     "name": "stderr",
     "output_type": "stream",
     "text": [
      "/tmp/ipykernel_55986/457635091.py:3: FutureWarning: Series.__getitem__ treating keys as positions is deprecated. In a future version, integer keys will always be treated as labels (consistent with DataFrame behavior). To access a value by position, use `ser.iloc[pos]`\n",
      "  G.add_node(i, title = attr[0])\n"
     ]
    },
    {
     "name": "stdout",
     "output_type": "stream",
     "text": [
      "0.0\n"
     ]
    },
    {
     "name": "stderr",
     "output_type": "stream",
     "text": [
      "/tmp/ipykernel_55986/457635091.py:15: DeprecationWarning: Conversion of an array with ndim > 0 to a scalar is deprecated, and will error in future. Ensure you extract a single element from your array before performing this operation. (Deprecated NumPy 1.25.)\n",
      "  G.add_edge(current_node, target_node, weight = float(similarity))\n"
     ]
    },
    {
     "name": "stdout",
     "output_type": "stream",
     "text": [
      "0.2\n",
      "0.4\n",
      "0.6\n",
      "0.8\n"
     ]
    }
   ],
   "source": [
    "G = nx.Graph()\n",
    "for i, attr in data.iterrows():\n",
    "    G.add_node(i, title = attr[0])\n",
    "\n",
    "for i in range((np.shape(A))[0]):\n",
    "    if i%1000 == 0: \n",
    "        print(i/(np.shape(A))[0])\n",
    "    current_node = data.index[i]\n",
    "    current_node_similarity = cosine_similarity(A, A[i,:])\n",
    "    edges_to_add = np.argwhere(current_node_similarity > .5)[:,0] #arbitrary cutoff\n",
    "    for j in edges_to_add:\n",
    "        target_node = data.index[j]\n",
    "        similarity = current_node_similarity[j]\n",
    "        if (current_node != target_node): \n",
    "            G.add_edge(current_node, target_node, weight = float(similarity))"
   ]
  },
  {
   "cell_type": "code",
   "execution_count": 37,
   "metadata": {},
   "outputs": [],
   "source": [
    "nx.write_gexf(G, \"recipe_instruction_small.gexf\")"
   ]
  },
  {
   "cell_type": "code",
   "execution_count": 38,
   "metadata": {},
   "outputs": [
    {
     "name": "stderr",
     "output_type": "stream",
     "text": [
      "/tmp/ipykernel_6362/1802441315.py:3: FutureWarning: Series.__getitem__ treating keys as positions is deprecated. In a future version, integer keys will always be treated as labels (consistent with DataFrame behavior). To access a value by position, use `ser.iloc[pos]`\n",
      "  G_ingr.add_node(i, title = attr[0])\n",
      "/tmp/ipykernel_6362/1802441315.py:15: DeprecationWarning: Conversion of an array with ndim > 0 to a scalar is deprecated, and will error in future. Ensure you extract a single element from your array before performing this operation. (Deprecated NumPy 1.25.)\n",
      "  G_ingr.add_edge(current_node, target_node, weight = float(similarity))\n"
     ]
    },
    {
     "name": "stdout",
     "output_type": "stream",
     "text": [
      "0.0\n",
      "0.2\n",
      "0.4\n",
      "0.6\n",
      "0.8\n"
     ]
    }
   ],
   "source": [
    "G_ingr = nx.Graph()\n",
    "for i, attr in data[0:100].iterrows():\n",
    "    G_ingr.add_node(i, title = attr[0])\n",
    "\n",
    "for i in range((np.shape(A_ingredients))[0]):\n",
    "    if i%1000 == 0: \n",
    "        print(i/(np.shape(A_ingredients))[0])\n",
    "    current_node = data.index[i]\n",
    "    current_node_similarity = cosine_similarity(A_ingredients, A_ingredients[i,:])\n",
    "    edges_to_add = np.argwhere(current_node_similarity > .5)[:,0] #arbitrary cutoff\n",
    "    for j in edges_to_add:\n",
    "        target_node = data.index[j]\n",
    "        similarity = current_node_similarity[j]\n",
    "        if (current_node != target_node): \n",
    "            G_ingr.add_edge(current_node, target_node, weight = float(similarity))"
   ]
  },
  {
   "cell_type": "code",
   "execution_count": 39,
   "metadata": {},
   "outputs": [],
   "source": [
    "nx.write_gexf(G_ingr, \"recipe_ingredient_small.gexf\")"
   ]
  }
 ],
 "metadata": {
  "kernelspec": {
   "display_name": ".venv",
   "language": "python",
   "name": "python3"
  },
  "language_info": {
   "codemirror_mode": {
    "name": "ipython",
    "version": 3
   },
   "file_extension": ".py",
   "mimetype": "text/x-python",
   "name": "python",
   "nbconvert_exporter": "python",
   "pygments_lexer": "ipython3",
   "version": "3.11.0"
  }
 },
 "nbformat": 4,
 "nbformat_minor": 2
}
